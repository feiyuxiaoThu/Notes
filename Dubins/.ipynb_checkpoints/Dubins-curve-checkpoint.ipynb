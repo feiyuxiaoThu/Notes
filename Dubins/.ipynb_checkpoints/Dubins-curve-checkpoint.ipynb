{
 "cells": [
  {
   "cell_type": "markdown",
   "metadata": {},
   "source": [
    "# Reeds-Shepp曲线和Dubins曲线"
   ]
  },
  {
   "cell_type": "markdown",
   "metadata": {},
   "source": [
    "## 什么是Reeds-Shepp曲线？\n",
    "\n",
    "想象你下班开车回家，到了小区后想把车停到你个人的停车位里面。作为一个喜欢追求挑战的老司机，你想找一条最短的路径把车停进去。那么这样的路径是什么呢？答案就是Reeds-Shepp曲线。Reeds-Shepp曲线由Reeds和Shepp二人在1990年的文章《Optimal paths for a car that goes both forwards and backwards》中提出。\n"
   ]
  },
  {
   "cell_type": "markdown",
   "metadata": {},
   "source": [
    "##  Reeds-Shepp曲线是什么样的曲线？\n",
    "\n",
    "既然是最短路径，我们首先想到的就是直线段，那么它是直线吗？嗯…，在某些情况下，它确实是直线。比如下图左所示的情况，汽车车头刚好对准了停车位（绿色表示停车位，红色表示汽车的起始状态，灰色表示汽车，状态是指汽车的位置和车头的朝向）。可是实际显然不会这么简单，会有各种可能，比如下图右所示的情况：车在停车位的右侧，且车头和停车位平行（侧位停车）。由于汽车都有一个最小转向半径，所以你不能让汽车向螃蟹一样横着开进去，这时求最短路径就没那么简单了。图中汽车中心运动形成的黑色曲线就是Reeds-Shepp曲线。Reeds-Shepp曲线由几段半径固定的圆弧和一段直线段拼接组成，而且圆弧的半径就是汽车的最小转向半径。这里的路径长度是指汽车中心运动轨迹的长度，也就是所有圆弧的弧长和直线段的长度之和。\n",
    "\n",
    "![](https://images2015.cnblogs.com/blog/1089880/201701/1089880-20170103082231675-1836787887.gif)"
   ]
  },
  {
   "cell_type": "markdown",
   "metadata": {},
   "source": [
    "![](https://images2015.cnblogs.com/blog/1089880/201701/1089880-20170103082321019-1468429855.gif)"
   ]
  },
  {
   "cell_type": "markdown",
   "metadata": {},
   "source": [
    "## 数学推导\n",
    "\n",
    "### Simple car 模型\n",
    "\n",
    "该模型将车辆看做平面上的刚体运动，刚体原点位于车辆后轮中心； x 轴沿着车辆主轴方向，与车辆运动方向相同；车辆在任何一个时刻的位姿可以表示为 $(x,y,\n",
    "\\theta)$，车辆的运动速度喂 s ；方向盘转角为 $\\Phi$，即为前轮转角；前轮和后轮中心的距离为 L。显然如果方向角的转角固定，车辆会绕一个固定半径的圆转圈，记此半径为 $\\rho$\n",
    "\n",
    "![](vehicle.jpg)"
   ]
  },
  {
   "cell_type": "markdown",
   "metadata": {},
   "source": [
    "在一个很短的时间内，可以认为车辆沿着后轮所指向的方向前进，当 $\\Delta t \\to 0$ 时，有\n",
    "\n",
    "$$\n",
    "tan \\theta = dy/dx\n",
    "$$"
   ]
  },
  {
   "cell_type": "markdown",
   "metadata": {},
   "source": [
    "上式显然等价于：\n",
    "\n",
    "$$\n",
    "-\\dot{x}sin\\theta + \\dot{y}cos\\theta = 0\n",
    "$$"
   ]
  },
  {
   "cell_type": "markdown",
   "metadata": {},
   "source": [
    "显然 $\\dot{x} = cos\\theta$ 和 $\\dot{y} = sin\\theta$ 也是上式的一个解\n",
    "\n",
    "用 $w$ 表示车辆前进的距离，有\n",
    "\n",
    "$$\n",
    "dw = \\rho d\\theta\n",
    "$$"
   ]
  },
  {
   "cell_type": "markdown",
   "metadata": {},
   "source": [
    "显然有\n",
    "$$\n",
    "\\rho = L/tan\\Phi\n",
    "$$\n",
    "带入上式，有\n",
    "$$\n",
    "d\\theta = \\frac{tan\\Phi}{L} dw\n",
    "$$"
   ]
  },
  {
   "cell_type": "markdown",
   "metadata": {},
   "source": [
    "再结合 $\\dot{w} = s$ 有\n",
    "$$\n",
    "\\dot{\\theta} = \\frac{s}{L} tan\\Phi\n",
    "$$"
   ]
  },
  {
   "cell_type": "markdown",
   "metadata": {},
   "source": [
    "从而得到了车辆的运动学模型，然后引入Action变量，假设车辆运动速度s和方向盘转角$\\Phi$由Action变量$u_s$和$u_{\\Phi}$指定，得到："
   ]
  },
  {
   "cell_type": "markdown",
   "metadata": {},
   "source": [
    "$$\n",
    "\\dot{x} = u_s cos\\theta\n",
    "$$\n",
    "$$\n",
    "\\dot{y} = u_ssin\\theta\n",
    "$$\n",
    "$$\n",
    "\\dot{\\theta} = \\frac{s}{L} tan\\Phi\n",
    "$$\n"
   ]
  },
  {
   "cell_type": "markdown",
   "metadata": {},
   "source": [
    "### Dubins 曲线\n",
    "\n",
    "假设车辆以匀速运行： "
   ]
  },
  {
   "cell_type": "code",
   "execution_count": null,
   "metadata": {},
   "outputs": [],
   "source": []
  }
 ],
 "metadata": {
  "kernelspec": {
   "display_name": "Python 3 (ipykernel)",
   "language": "python",
   "name": "python3"
  },
  "language_info": {
   "codemirror_mode": {
    "name": "ipython",
    "version": 3
   },
   "file_extension": ".py",
   "mimetype": "text/x-python",
   "name": "python",
   "nbconvert_exporter": "python",
   "pygments_lexer": "ipython3",
   "version": "3.7.4"
  }
 },
 "nbformat": 4,
 "nbformat_minor": 2
}
